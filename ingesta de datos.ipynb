{
 "cells": [
  {
   "cell_type": "code",
   "execution_count": 1,
   "id": "ddbb9c55",
   "metadata": {},
   "outputs": [],
   "source": [
    "# pip install Mysql-connector-python"
   ]
  },
  {
   "cell_type": "code",
   "execution_count": 2,
   "id": "d4ff54e8",
   "metadata": {},
   "outputs": [],
   "source": [
    "import mysql.connector as conection\n",
    "import pandas as pd\n",
    "import mysql\n",
    "import seaborn as sns\n",
    "import matplotlib.pyplot as plt"
   ]
  },
  {
   "cell_type": "code",
   "execution_count": 3,
   "id": "250d73c7",
   "metadata": {},
   "outputs": [],
   "source": [
    "mydb = mysql.connector.connect(\n",
    "    host='34.16.84.34',\n",
    "    user='root',\n",
    "    password = '123Qaz456$$D8',\n",
    "    database='classicmodels')"
   ]
  },
  {
   "cell_type": "code",
   "execution_count": 4,
   "id": "53b97f24",
   "metadata": {},
   "outputs": [],
   "source": [
    "query = 'select * from classicmodels.payments;'"
   ]
  },
  {
   "cell_type": "code",
   "execution_count": 5,
   "id": "e71e52f5",
   "metadata": {},
   "outputs": [
    {
     "name": "stderr",
     "output_type": "stream",
     "text": [
      "C:\\Users\\JORGE\\AppData\\Local\\Temp\\ipykernel_29972\\1494652780.py:1: UserWarning: pandas only supports SQLAlchemy connectable (engine/connection) or database string URI or sqlite3 DBAPI2 connection. Other DBAPI2 objects are not tested. Please consider using SQLAlchemy.\n",
      "  df = pd.read_sql(query,mydb)\n"
     ]
    }
   ],
   "source": [
    "df = pd.read_sql(query,mydb)\n",
    "mydb.close()"
   ]
  },
  {
   "cell_type": "code",
   "execution_count": 6,
   "id": "1ff09019",
   "metadata": {},
   "outputs": [
    {
     "data": {
      "text/html": [
       "<div>\n",
       "<style scoped>\n",
       "    .dataframe tbody tr th:only-of-type {\n",
       "        vertical-align: middle;\n",
       "    }\n",
       "\n",
       "    .dataframe tbody tr th {\n",
       "        vertical-align: top;\n",
       "    }\n",
       "\n",
       "    .dataframe thead th {\n",
       "        text-align: right;\n",
       "    }\n",
       "</style>\n",
       "<table border=\"1\" class=\"dataframe\">\n",
       "  <thead>\n",
       "    <tr style=\"text-align: right;\">\n",
       "      <th></th>\n",
       "      <th>customerNumber</th>\n",
       "      <th>checkNumber</th>\n",
       "      <th>paymentDate</th>\n",
       "      <th>amount</th>\n",
       "    </tr>\n",
       "  </thead>\n",
       "  <tbody>\n",
       "    <tr>\n",
       "      <th>0</th>\n",
       "      <td>103</td>\n",
       "      <td>HQ336336</td>\n",
       "      <td>2004-10-19</td>\n",
       "      <td>6066.78</td>\n",
       "    </tr>\n",
       "    <tr>\n",
       "      <th>1</th>\n",
       "      <td>103</td>\n",
       "      <td>JM555205</td>\n",
       "      <td>2003-06-05</td>\n",
       "      <td>14571.44</td>\n",
       "    </tr>\n",
       "    <tr>\n",
       "      <th>2</th>\n",
       "      <td>103</td>\n",
       "      <td>OM314933</td>\n",
       "      <td>2004-12-18</td>\n",
       "      <td>1676.14</td>\n",
       "    </tr>\n",
       "    <tr>\n",
       "      <th>3</th>\n",
       "      <td>112</td>\n",
       "      <td>BO864823</td>\n",
       "      <td>2004-12-17</td>\n",
       "      <td>14191.12</td>\n",
       "    </tr>\n",
       "    <tr>\n",
       "      <th>4</th>\n",
       "      <td>112</td>\n",
       "      <td>HQ55022</td>\n",
       "      <td>2003-06-06</td>\n",
       "      <td>32641.98</td>\n",
       "    </tr>\n",
       "    <tr>\n",
       "      <th>...</th>\n",
       "      <td>...</td>\n",
       "      <td>...</td>\n",
       "      <td>...</td>\n",
       "      <td>...</td>\n",
       "    </tr>\n",
       "    <tr>\n",
       "      <th>268</th>\n",
       "      <td>495</td>\n",
       "      <td>BH167026</td>\n",
       "      <td>2003-12-26</td>\n",
       "      <td>59265.14</td>\n",
       "    </tr>\n",
       "    <tr>\n",
       "      <th>269</th>\n",
       "      <td>495</td>\n",
       "      <td>FN155234</td>\n",
       "      <td>2004-05-14</td>\n",
       "      <td>6276.60</td>\n",
       "    </tr>\n",
       "    <tr>\n",
       "      <th>270</th>\n",
       "      <td>496</td>\n",
       "      <td>EU531600</td>\n",
       "      <td>2005-05-25</td>\n",
       "      <td>30253.75</td>\n",
       "    </tr>\n",
       "    <tr>\n",
       "      <th>271</th>\n",
       "      <td>496</td>\n",
       "      <td>MB342426</td>\n",
       "      <td>2003-07-16</td>\n",
       "      <td>32077.44</td>\n",
       "    </tr>\n",
       "    <tr>\n",
       "      <th>272</th>\n",
       "      <td>496</td>\n",
       "      <td>MN89921</td>\n",
       "      <td>2004-12-31</td>\n",
       "      <td>52166.00</td>\n",
       "    </tr>\n",
       "  </tbody>\n",
       "</table>\n",
       "<p>273 rows × 4 columns</p>\n",
       "</div>"
      ],
      "text/plain": [
       "     customerNumber checkNumber paymentDate    amount\n",
       "0               103    HQ336336  2004-10-19   6066.78\n",
       "1               103    JM555205  2003-06-05  14571.44\n",
       "2               103    OM314933  2004-12-18   1676.14\n",
       "3               112    BO864823  2004-12-17  14191.12\n",
       "4               112     HQ55022  2003-06-06  32641.98\n",
       "..              ...         ...         ...       ...\n",
       "268             495    BH167026  2003-12-26  59265.14\n",
       "269             495    FN155234  2004-05-14   6276.60\n",
       "270             496    EU531600  2005-05-25  30253.75\n",
       "271             496    MB342426  2003-07-16  32077.44\n",
       "272             496     MN89921  2004-12-31  52166.00\n",
       "\n",
       "[273 rows x 4 columns]"
      ]
     },
     "execution_count": 6,
     "metadata": {},
     "output_type": "execute_result"
    }
   ],
   "source": [
    "df"
   ]
  },
  {
   "cell_type": "code",
   "execution_count": 7,
   "id": "1884eb93",
   "metadata": {},
   "outputs": [
    {
     "data": {
      "text/plain": [
       "(273, 4)"
      ]
     },
     "execution_count": 7,
     "metadata": {},
     "output_type": "execute_result"
    }
   ],
   "source": [
    "df.shape"
   ]
  },
  {
   "cell_type": "code",
   "execution_count": 8,
   "id": "afc2743d",
   "metadata": {},
   "outputs": [
    {
     "name": "stdout",
     "output_type": "stream",
     "text": [
      "<class 'pandas.core.frame.DataFrame'>\n",
      "RangeIndex: 273 entries, 0 to 272\n",
      "Data columns (total 4 columns):\n",
      " #   Column          Non-Null Count  Dtype  \n",
      "---  ------          --------------  -----  \n",
      " 0   customerNumber  273 non-null    int64  \n",
      " 1   checkNumber     273 non-null    object \n",
      " 2   paymentDate     273 non-null    object \n",
      " 3   amount          273 non-null    float64\n",
      "dtypes: float64(1), int64(1), object(2)\n",
      "memory usage: 8.7+ KB\n"
     ]
    }
   ],
   "source": [
    "df.info()"
   ]
  },
  {
   "cell_type": "code",
   "execution_count": 9,
   "id": "44889da6",
   "metadata": {},
   "outputs": [
    {
     "data": {
      "text/plain": [
       "Index(['customerNumber', 'checkNumber', 'paymentDate', 'amount'], dtype='object')"
      ]
     },
     "execution_count": 9,
     "metadata": {},
     "output_type": "execute_result"
    }
   ],
   "source": [
    "df.columns"
   ]
  },
  {
   "cell_type": "code",
   "execution_count": 10,
   "id": "1a18cfd1",
   "metadata": {},
   "outputs": [
    {
     "data": {
      "text/html": [
       "<div>\n",
       "<style scoped>\n",
       "    .dataframe tbody tr th:only-of-type {\n",
       "        vertical-align: middle;\n",
       "    }\n",
       "\n",
       "    .dataframe tbody tr th {\n",
       "        vertical-align: top;\n",
       "    }\n",
       "\n",
       "    .dataframe thead th {\n",
       "        text-align: right;\n",
       "    }\n",
       "</style>\n",
       "<table border=\"1\" class=\"dataframe\">\n",
       "  <thead>\n",
       "    <tr style=\"text-align: right;\">\n",
       "      <th></th>\n",
       "      <th>customerNumber</th>\n",
       "      <th>amount</th>\n",
       "    </tr>\n",
       "  </thead>\n",
       "  <tbody>\n",
       "    <tr>\n",
       "      <th>count</th>\n",
       "      <td>273.000000</td>\n",
       "      <td>273.000000</td>\n",
       "    </tr>\n",
       "    <tr>\n",
       "      <th>mean</th>\n",
       "      <td>271.194139</td>\n",
       "      <td>32431.645531</td>\n",
       "    </tr>\n",
       "    <tr>\n",
       "      <th>std</th>\n",
       "      <td>120.069507</td>\n",
       "      <td>20997.116917</td>\n",
       "    </tr>\n",
       "    <tr>\n",
       "      <th>min</th>\n",
       "      <td>103.000000</td>\n",
       "      <td>615.450000</td>\n",
       "    </tr>\n",
       "    <tr>\n",
       "      <th>25%</th>\n",
       "      <td>161.000000</td>\n",
       "      <td>16909.840000</td>\n",
       "    </tr>\n",
       "    <tr>\n",
       "      <th>50%</th>\n",
       "      <td>250.000000</td>\n",
       "      <td>32077.440000</td>\n",
       "    </tr>\n",
       "    <tr>\n",
       "      <th>75%</th>\n",
       "      <td>363.000000</td>\n",
       "      <td>45352.470000</td>\n",
       "    </tr>\n",
       "    <tr>\n",
       "      <th>max</th>\n",
       "      <td>496.000000</td>\n",
       "      <td>120166.580000</td>\n",
       "    </tr>\n",
       "  </tbody>\n",
       "</table>\n",
       "</div>"
      ],
      "text/plain": [
       "       customerNumber         amount\n",
       "count      273.000000     273.000000\n",
       "mean       271.194139   32431.645531\n",
       "std        120.069507   20997.116917\n",
       "min        103.000000     615.450000\n",
       "25%        161.000000   16909.840000\n",
       "50%        250.000000   32077.440000\n",
       "75%        363.000000   45352.470000\n",
       "max        496.000000  120166.580000"
      ]
     },
     "execution_count": 10,
     "metadata": {},
     "output_type": "execute_result"
    }
   ],
   "source": [
    "df.describe()"
   ]
  },
  {
   "cell_type": "code",
   "execution_count": 11,
   "id": "a174ee14",
   "metadata": {},
   "outputs": [],
   "source": [
    "# pip install google-cloud-storage"
   ]
  },
  {
   "cell_type": "code",
   "execution_count": 12,
   "id": "48577482",
   "metadata": {},
   "outputs": [],
   "source": [
    "from google.cloud import storage\n",
    "import os\n",
    "from io import StringIO"
   ]
  },
  {
   "cell_type": "code",
   "execution_count": 13,
   "id": "f3e140e6",
   "metadata": {},
   "outputs": [],
   "source": [
    "os.environ[\"GOOGLE_APPLICATIOn_CREDENTIALS\"] = 'C:/Users/JORGE/Downloads/credenciales.json'"
   ]
  },
  {
   "cell_type": "code",
   "execution_count": 14,
   "id": "264f074c",
   "metadata": {},
   "outputs": [],
   "source": [
    "storage_client = storage.Client()"
   ]
  },
  {
   "cell_type": "code",
   "execution_count": 15,
   "id": "ae282ec6",
   "metadata": {},
   "outputs": [],
   "source": [
    "bucket_name = 'cloudstoagereingesta'\n",
    "blob_name = '2008.csv'"
   ]
  },
  {
   "cell_type": "code",
   "execution_count": 16,
   "id": "bdc11ab1",
   "metadata": {},
   "outputs": [],
   "source": [
    "bucket = storage_client.get_bucket(bucket_name)\n",
    "blob = bucket.blob(blob_name)"
   ]
  },
  {
   "cell_type": "code",
   "execution_count": 17,
   "id": "9ea34ca9",
   "metadata": {},
   "outputs": [],
   "source": [
    "data = blob.download_as_text()"
   ]
  },
  {
   "cell_type": "code",
   "execution_count": 18,
   "id": "490e389e",
   "metadata": {},
   "outputs": [],
   "source": [
    "df = pd.read_csv(StringIO(data),sep=\",\")"
   ]
  },
  {
   "cell_type": "code",
   "execution_count": 19,
   "id": "0d23e37e",
   "metadata": {},
   "outputs": [
    {
     "data": {
      "text/html": [
       "<div>\n",
       "<style scoped>\n",
       "    .dataframe tbody tr th:only-of-type {\n",
       "        vertical-align: middle;\n",
       "    }\n",
       "\n",
       "    .dataframe tbody tr th {\n",
       "        vertical-align: top;\n",
       "    }\n",
       "\n",
       "    .dataframe thead th {\n",
       "        text-align: right;\n",
       "    }\n",
       "</style>\n",
       "<table border=\"1\" class=\"dataframe\">\n",
       "  <thead>\n",
       "    <tr style=\"text-align: right;\">\n",
       "      <th></th>\n",
       "      <th>Year</th>\n",
       "      <th>Month</th>\n",
       "      <th>DayofMonth</th>\n",
       "      <th>DayOfWeek</th>\n",
       "      <th>DepTime</th>\n",
       "      <th>CRSDepTime</th>\n",
       "      <th>ArrTime</th>\n",
       "      <th>CRSArrTime</th>\n",
       "      <th>UniqueCarrier</th>\n",
       "      <th>FlightNum</th>\n",
       "      <th>...</th>\n",
       "      <th>TaxiIn</th>\n",
       "      <th>TaxiOut</th>\n",
       "      <th>Cancelled</th>\n",
       "      <th>CancellationCode</th>\n",
       "      <th>Diverted</th>\n",
       "      <th>CarrierDelay</th>\n",
       "      <th>WeatherDelay</th>\n",
       "      <th>NASDelay</th>\n",
       "      <th>SecurityDelay</th>\n",
       "      <th>LateAircraftDelay</th>\n",
       "    </tr>\n",
       "  </thead>\n",
       "  <tbody>\n",
       "    <tr>\n",
       "      <th>0</th>\n",
       "      <td>2008</td>\n",
       "      <td>1</td>\n",
       "      <td>3</td>\n",
       "      <td>4</td>\n",
       "      <td>2003.0</td>\n",
       "      <td>1955</td>\n",
       "      <td>2211.0</td>\n",
       "      <td>2225</td>\n",
       "      <td>WN</td>\n",
       "      <td>335</td>\n",
       "      <td>...</td>\n",
       "      <td>4.0</td>\n",
       "      <td>8.0</td>\n",
       "      <td>0</td>\n",
       "      <td>NaN</td>\n",
       "      <td>0</td>\n",
       "      <td>NaN</td>\n",
       "      <td>NaN</td>\n",
       "      <td>NaN</td>\n",
       "      <td>NaN</td>\n",
       "      <td>NaN</td>\n",
       "    </tr>\n",
       "    <tr>\n",
       "      <th>1</th>\n",
       "      <td>2008</td>\n",
       "      <td>1</td>\n",
       "      <td>3</td>\n",
       "      <td>4</td>\n",
       "      <td>754.0</td>\n",
       "      <td>735</td>\n",
       "      <td>1002.0</td>\n",
       "      <td>1000</td>\n",
       "      <td>WN</td>\n",
       "      <td>3231</td>\n",
       "      <td>...</td>\n",
       "      <td>5.0</td>\n",
       "      <td>10.0</td>\n",
       "      <td>0</td>\n",
       "      <td>NaN</td>\n",
       "      <td>0</td>\n",
       "      <td>NaN</td>\n",
       "      <td>NaN</td>\n",
       "      <td>NaN</td>\n",
       "      <td>NaN</td>\n",
       "      <td>NaN</td>\n",
       "    </tr>\n",
       "    <tr>\n",
       "      <th>2</th>\n",
       "      <td>2008</td>\n",
       "      <td>1</td>\n",
       "      <td>3</td>\n",
       "      <td>4</td>\n",
       "      <td>628.0</td>\n",
       "      <td>620</td>\n",
       "      <td>804.0</td>\n",
       "      <td>750</td>\n",
       "      <td>WN</td>\n",
       "      <td>448</td>\n",
       "      <td>...</td>\n",
       "      <td>3.0</td>\n",
       "      <td>17.0</td>\n",
       "      <td>0</td>\n",
       "      <td>NaN</td>\n",
       "      <td>0</td>\n",
       "      <td>NaN</td>\n",
       "      <td>NaN</td>\n",
       "      <td>NaN</td>\n",
       "      <td>NaN</td>\n",
       "      <td>NaN</td>\n",
       "    </tr>\n",
       "    <tr>\n",
       "      <th>3</th>\n",
       "      <td>2008</td>\n",
       "      <td>1</td>\n",
       "      <td>3</td>\n",
       "      <td>4</td>\n",
       "      <td>926.0</td>\n",
       "      <td>930</td>\n",
       "      <td>1054.0</td>\n",
       "      <td>1100</td>\n",
       "      <td>WN</td>\n",
       "      <td>1746</td>\n",
       "      <td>...</td>\n",
       "      <td>3.0</td>\n",
       "      <td>7.0</td>\n",
       "      <td>0</td>\n",
       "      <td>NaN</td>\n",
       "      <td>0</td>\n",
       "      <td>NaN</td>\n",
       "      <td>NaN</td>\n",
       "      <td>NaN</td>\n",
       "      <td>NaN</td>\n",
       "      <td>NaN</td>\n",
       "    </tr>\n",
       "    <tr>\n",
       "      <th>4</th>\n",
       "      <td>2008</td>\n",
       "      <td>1</td>\n",
       "      <td>3</td>\n",
       "      <td>4</td>\n",
       "      <td>1829.0</td>\n",
       "      <td>1755</td>\n",
       "      <td>1959.0</td>\n",
       "      <td>1925</td>\n",
       "      <td>WN</td>\n",
       "      <td>3920</td>\n",
       "      <td>...</td>\n",
       "      <td>3.0</td>\n",
       "      <td>10.0</td>\n",
       "      <td>0</td>\n",
       "      <td>NaN</td>\n",
       "      <td>0</td>\n",
       "      <td>2.0</td>\n",
       "      <td>0.0</td>\n",
       "      <td>0.0</td>\n",
       "      <td>0.0</td>\n",
       "      <td>32.0</td>\n",
       "    </tr>\n",
       "    <tr>\n",
       "      <th>...</th>\n",
       "      <td>...</td>\n",
       "      <td>...</td>\n",
       "      <td>...</td>\n",
       "      <td>...</td>\n",
       "      <td>...</td>\n",
       "      <td>...</td>\n",
       "      <td>...</td>\n",
       "      <td>...</td>\n",
       "      <td>...</td>\n",
       "      <td>...</td>\n",
       "      <td>...</td>\n",
       "      <td>...</td>\n",
       "      <td>...</td>\n",
       "      <td>...</td>\n",
       "      <td>...</td>\n",
       "      <td>...</td>\n",
       "      <td>...</td>\n",
       "      <td>...</td>\n",
       "      <td>...</td>\n",
       "      <td>...</td>\n",
       "      <td>...</td>\n",
       "    </tr>\n",
       "    <tr>\n",
       "      <th>7009723</th>\n",
       "      <td>2008</td>\n",
       "      <td>12</td>\n",
       "      <td>13</td>\n",
       "      <td>6</td>\n",
       "      <td>1002.0</td>\n",
       "      <td>959</td>\n",
       "      <td>1204.0</td>\n",
       "      <td>1150</td>\n",
       "      <td>DL</td>\n",
       "      <td>1636</td>\n",
       "      <td>...</td>\n",
       "      <td>6.0</td>\n",
       "      <td>45.0</td>\n",
       "      <td>0</td>\n",
       "      <td>NaN</td>\n",
       "      <td>0</td>\n",
       "      <td>NaN</td>\n",
       "      <td>NaN</td>\n",
       "      <td>NaN</td>\n",
       "      <td>NaN</td>\n",
       "      <td>NaN</td>\n",
       "    </tr>\n",
       "    <tr>\n",
       "      <th>7009724</th>\n",
       "      <td>2008</td>\n",
       "      <td>12</td>\n",
       "      <td>13</td>\n",
       "      <td>6</td>\n",
       "      <td>834.0</td>\n",
       "      <td>835</td>\n",
       "      <td>1021.0</td>\n",
       "      <td>1023</td>\n",
       "      <td>DL</td>\n",
       "      <td>1637</td>\n",
       "      <td>...</td>\n",
       "      <td>5.0</td>\n",
       "      <td>23.0</td>\n",
       "      <td>0</td>\n",
       "      <td>NaN</td>\n",
       "      <td>0</td>\n",
       "      <td>NaN</td>\n",
       "      <td>NaN</td>\n",
       "      <td>NaN</td>\n",
       "      <td>NaN</td>\n",
       "      <td>NaN</td>\n",
       "    </tr>\n",
       "    <tr>\n",
       "      <th>7009725</th>\n",
       "      <td>2008</td>\n",
       "      <td>12</td>\n",
       "      <td>13</td>\n",
       "      <td>6</td>\n",
       "      <td>655.0</td>\n",
       "      <td>700</td>\n",
       "      <td>856.0</td>\n",
       "      <td>856</td>\n",
       "      <td>DL</td>\n",
       "      <td>1638</td>\n",
       "      <td>...</td>\n",
       "      <td>24.0</td>\n",
       "      <td>12.0</td>\n",
       "      <td>0</td>\n",
       "      <td>NaN</td>\n",
       "      <td>0</td>\n",
       "      <td>NaN</td>\n",
       "      <td>NaN</td>\n",
       "      <td>NaN</td>\n",
       "      <td>NaN</td>\n",
       "      <td>NaN</td>\n",
       "    </tr>\n",
       "    <tr>\n",
       "      <th>7009726</th>\n",
       "      <td>2008</td>\n",
       "      <td>12</td>\n",
       "      <td>13</td>\n",
       "      <td>6</td>\n",
       "      <td>1251.0</td>\n",
       "      <td>1240</td>\n",
       "      <td>1446.0</td>\n",
       "      <td>1437</td>\n",
       "      <td>DL</td>\n",
       "      <td>1639</td>\n",
       "      <td>...</td>\n",
       "      <td>13.0</td>\n",
       "      <td>13.0</td>\n",
       "      <td>0</td>\n",
       "      <td>NaN</td>\n",
       "      <td>0</td>\n",
       "      <td>NaN</td>\n",
       "      <td>NaN</td>\n",
       "      <td>NaN</td>\n",
       "      <td>NaN</td>\n",
       "      <td>NaN</td>\n",
       "    </tr>\n",
       "    <tr>\n",
       "      <th>7009727</th>\n",
       "      <td>2008</td>\n",
       "      <td>12</td>\n",
       "      <td>13</td>\n",
       "      <td>6</td>\n",
       "      <td>1110.0</td>\n",
       "      <td>1103</td>\n",
       "      <td>1413.0</td>\n",
       "      <td>1418</td>\n",
       "      <td>DL</td>\n",
       "      <td>1641</td>\n",
       "      <td>...</td>\n",
       "      <td>8.0</td>\n",
       "      <td>11.0</td>\n",
       "      <td>0</td>\n",
       "      <td>NaN</td>\n",
       "      <td>0</td>\n",
       "      <td>NaN</td>\n",
       "      <td>NaN</td>\n",
       "      <td>NaN</td>\n",
       "      <td>NaN</td>\n",
       "      <td>NaN</td>\n",
       "    </tr>\n",
       "  </tbody>\n",
       "</table>\n",
       "<p>7009728 rows × 29 columns</p>\n",
       "</div>"
      ],
      "text/plain": [
       "         Year  Month  DayofMonth  DayOfWeek  DepTime  CRSDepTime  ArrTime  \\\n",
       "0        2008      1           3          4   2003.0        1955   2211.0   \n",
       "1        2008      1           3          4    754.0         735   1002.0   \n",
       "2        2008      1           3          4    628.0         620    804.0   \n",
       "3        2008      1           3          4    926.0         930   1054.0   \n",
       "4        2008      1           3          4   1829.0        1755   1959.0   \n",
       "...       ...    ...         ...        ...      ...         ...      ...   \n",
       "7009723  2008     12          13          6   1002.0         959   1204.0   \n",
       "7009724  2008     12          13          6    834.0         835   1021.0   \n",
       "7009725  2008     12          13          6    655.0         700    856.0   \n",
       "7009726  2008     12          13          6   1251.0        1240   1446.0   \n",
       "7009727  2008     12          13          6   1110.0        1103   1413.0   \n",
       "\n",
       "         CRSArrTime UniqueCarrier  FlightNum  ... TaxiIn  TaxiOut  Cancelled  \\\n",
       "0              2225            WN        335  ...    4.0      8.0          0   \n",
       "1              1000            WN       3231  ...    5.0     10.0          0   \n",
       "2               750            WN        448  ...    3.0     17.0          0   \n",
       "3              1100            WN       1746  ...    3.0      7.0          0   \n",
       "4              1925            WN       3920  ...    3.0     10.0          0   \n",
       "...             ...           ...        ...  ...    ...      ...        ...   \n",
       "7009723        1150            DL       1636  ...    6.0     45.0          0   \n",
       "7009724        1023            DL       1637  ...    5.0     23.0          0   \n",
       "7009725         856            DL       1638  ...   24.0     12.0          0   \n",
       "7009726        1437            DL       1639  ...   13.0     13.0          0   \n",
       "7009727        1418            DL       1641  ...    8.0     11.0          0   \n",
       "\n",
       "         CancellationCode  Diverted  CarrierDelay WeatherDelay NASDelay  \\\n",
       "0                     NaN         0           NaN          NaN      NaN   \n",
       "1                     NaN         0           NaN          NaN      NaN   \n",
       "2                     NaN         0           NaN          NaN      NaN   \n",
       "3                     NaN         0           NaN          NaN      NaN   \n",
       "4                     NaN         0           2.0          0.0      0.0   \n",
       "...                   ...       ...           ...          ...      ...   \n",
       "7009723               NaN         0           NaN          NaN      NaN   \n",
       "7009724               NaN         0           NaN          NaN      NaN   \n",
       "7009725               NaN         0           NaN          NaN      NaN   \n",
       "7009726               NaN         0           NaN          NaN      NaN   \n",
       "7009727               NaN         0           NaN          NaN      NaN   \n",
       "\n",
       "         SecurityDelay  LateAircraftDelay  \n",
       "0                  NaN                NaN  \n",
       "1                  NaN                NaN  \n",
       "2                  NaN                NaN  \n",
       "3                  NaN                NaN  \n",
       "4                  0.0               32.0  \n",
       "...                ...                ...  \n",
       "7009723            NaN                NaN  \n",
       "7009724            NaN                NaN  \n",
       "7009725            NaN                NaN  \n",
       "7009726            NaN                NaN  \n",
       "7009727            NaN                NaN  \n",
       "\n",
       "[7009728 rows x 29 columns]"
      ]
     },
     "execution_count": 19,
     "metadata": {},
     "output_type": "execute_result"
    }
   ],
   "source": [
    "df"
   ]
  },
  {
   "cell_type": "code",
   "execution_count": 20,
   "id": "671523f1",
   "metadata": {},
   "outputs": [],
   "source": [
    "df[['Year',\"Month\",\"DayofMonth\"]] = df[['Year',\"Month\",\"DayofMonth\"]].astype(str)"
   ]
  },
  {
   "cell_type": "code",
   "execution_count": 21,
   "id": "17644741",
   "metadata": {},
   "outputs": [],
   "source": [
    "df['concatenadas'] = df['Year'].astype(str).str.cat([df['Month'], df['DayofMonth']], sep='-')\n"
   ]
  },
  {
   "cell_type": "code",
   "execution_count": 22,
   "id": "4ed3ddae",
   "metadata": {},
   "outputs": [],
   "source": [
    "df['concatenadas'] = pd.to_datetime(df['concatenadas'])"
   ]
  },
  {
   "cell_type": "code",
   "execution_count": 23,
   "id": "4a5d9a29",
   "metadata": {},
   "outputs": [
    {
     "data": {
      "text/plain": [
       "Year                       0\n",
       "Month                      0\n",
       "DayofMonth                 0\n",
       "DayOfWeek                  0\n",
       "DepTime               136246\n",
       "CRSDepTime                 0\n",
       "ArrTime               151649\n",
       "CRSArrTime                 0\n",
       "UniqueCarrier              0\n",
       "FlightNum                  0\n",
       "TailNum                83365\n",
       "ActualElapsedTime     154699\n",
       "CRSElapsedTime           844\n",
       "AirTime               154699\n",
       "ArrDelay              154699\n",
       "DepDelay              136246\n",
       "Origin                     0\n",
       "Dest                       0\n",
       "Distance                   0\n",
       "TaxiIn                151649\n",
       "TaxiOut               137058\n",
       "Cancelled                  0\n",
       "CancellationCode     6872294\n",
       "Diverted                   0\n",
       "CarrierDelay         5484993\n",
       "WeatherDelay         5484993\n",
       "NASDelay             5484993\n",
       "SecurityDelay        5484993\n",
       "LateAircraftDelay    5484993\n",
       "concatenadas               0\n",
       "dtype: int64"
      ]
     },
     "execution_count": 23,
     "metadata": {},
     "output_type": "execute_result"
    }
   ],
   "source": [
    "df.isnull().sum()"
   ]
  },
  {
   "cell_type": "code",
   "execution_count": 24,
   "id": "62b5a692",
   "metadata": {},
   "outputs": [
    {
     "data": {
      "text/plain": [
       "array(['TPA', 'BWI', 'JAX', 'LAS', 'MCI', 'MCO', 'MDW', 'PHX', 'FLL',\n",
       "       'PBI', 'RSW', 'HOU', 'BHM', 'BNA', 'IND', 'ORF', 'PHL', 'ABQ',\n",
       "       'ALB', 'AMA', 'AUS', 'BDL', 'BOI', 'BUF', 'BUR', 'CLE', 'CMH',\n",
       "       'DEN', 'ELP', 'GEG', 'IAD', 'ISP', 'LAX', 'LBB', 'LIT', 'MAF',\n",
       "       'MHT', 'MSY', 'OAK', 'OKC', 'OMA', 'ONT', 'PDX', 'PIT', 'PVD',\n",
       "       'RDU', 'RNO', 'SAN', 'SAT', 'SDF', 'SEA', 'SFO', 'SJC', 'SLC',\n",
       "       'SMF', 'SNA', 'STL', 'TUL', 'TUS', 'DAL', 'DTW', 'JAN', 'HRL',\n",
       "       'CRP', 'EWR', 'IAH', 'XNA', 'DCA', 'GSO', 'ROC', 'MYR', 'SYR',\n",
       "       'ATL', 'SAV', 'RIC', 'COS', 'FAT', 'MRY', 'LGB', 'BFL', 'EUG',\n",
       "       'ICT', 'MSN', 'CAE', 'DAY', 'BTR', 'TLH', 'DFW', 'LFT', 'PWM',\n",
       "       'SHV', 'MKE', 'CHS', 'CRW', 'HSV', 'TYS', 'MTJ', 'MGM', 'MFE',\n",
       "       'MSP', 'GSP', 'GRR', 'MEM', 'BTV', 'CLT', 'BRO', 'CVG', 'LGA',\n",
       "       'VPS', 'LEX', 'BPT', 'PNS', 'ORD', 'ABE', 'LRD', 'BGR', 'GRK',\n",
       "       'SRQ', 'LCH', 'AEX', 'AVL', 'GPT', 'MLU', 'MOB', 'BOS', 'DSM',\n",
       "       'CHA', 'CLL', 'PSP', 'DAB', 'ILM', 'JFK', 'MDT', 'ASE', 'COD',\n",
       "       'CPR', 'DRO', 'EGE', 'GJT', 'HDN', 'RAP', 'ITO', 'KOA', 'LIH',\n",
       "       'OGG', 'ROA', 'SPI', 'HNL', 'MFR', 'SBA', 'SBP', 'YUM', 'ATW',\n",
       "       'AVP', 'BMI', 'CAK', 'CID', 'CWA', 'FSD', 'FWA', 'GRB', 'LAN',\n",
       "       'MBS', 'SBN', 'CLD', 'FLG', 'TEX', 'TVC', 'MLB', 'SGF', 'MIA',\n",
       "       'HPN', 'TRI', 'TWF', 'PIH', 'SUN', 'EKO', 'SGU', 'PSC', 'BTM',\n",
       "       'BIL', 'FAR', 'IDA', 'BZN', 'MSO', 'FCA', 'HLN', 'GTF', 'LWS',\n",
       "       'YKM', 'SLE', 'RDM', 'BLI', 'JAC', 'IYK', 'SMX', 'ACV', 'OXR',\n",
       "       'RDD', 'MOD', 'CEC', 'CIC', 'IPL', 'PIA', 'LNK', 'GUC', 'AZO',\n",
       "       'MLI', 'PMD', 'BIS', 'RFD', 'CDC', 'OGD', 'STT', 'SJU', 'ANC',\n",
       "       'STX', 'PHF', 'MCN', 'VLD', 'CSG', 'SWF', 'BQK', 'DHN', 'ABY',\n",
       "       'AGS', 'MEI', 'FAY', 'EWN', 'SCE', 'EYW', 'EVV', 'PFN', 'GNV',\n",
       "       'OAJ', 'FNT', 'CHO', 'FSM', 'FLO', 'HHH', 'TOL', 'LYH', 'GTR',\n",
       "       'TUP', 'ACY', 'LAW', 'TYR', 'ABI', 'TXK', 'ACT', 'SPS', 'SJT',\n",
       "       'GGG', 'CMI', 'ROW', 'MQT', 'RST', 'LSE', 'DBQ', 'DLH', 'GFK',\n",
       "       'MOT', 'RHI', 'SUX', 'CMX', 'BGM', 'PLN', 'ERI', 'ALO', 'ELM',\n",
       "       'FAI', 'KTN', 'SIT', 'JNU', 'WRG', 'PSG', 'CDV', 'BET', 'OTZ',\n",
       "       'YAK', 'OME', 'ADQ', 'BRW', 'SCC', 'ADK', 'PSE', 'BQN', 'GCC',\n",
       "       'RKS', 'CYS', 'MKG', 'AKN', 'DLG', 'LWB', 'ACK', 'WYS', 'INL',\n",
       "       'BJI', 'GST', 'LMT', 'OTH', 'ITH', 'HTS', 'PIR'], dtype=object)"
      ]
     },
     "execution_count": 24,
     "metadata": {},
     "output_type": "execute_result"
    }
   ],
   "source": [
    "df.Dest.unique()"
   ]
  },
  {
   "cell_type": "code",
   "execution_count": 25,
   "id": "e611a49e",
   "metadata": {},
   "outputs": [
    {
     "data": {
      "text/plain": [
       "<Axes: xlabel='Dest', ylabel='AirTime'>"
      ]
     },
     "execution_count": 25,
     "metadata": {},
     "output_type": "execute_result"
    },
    {
     "data": {
      "image/png": "[encoded data removed]",
      "text/plain": [
       "<Figure size 1600x800 with 1 Axes>"
      ]
     },
     "metadata": {},
     "output_type": "display_data"
    }
   ],
   "source": [
    "plt.rcParams['axes.facecolor'] = '#f9f9f9'\n",
    "\n",
    "tiempo_volando = df.AirTime.unique()\n",
    "destinos_mas_visitados = df.Dest.value_counts().index[0:10]\n",
    "filtro_destinos = df[df[\"Dest\"].isin(destinos_mas_visitados)]\n",
    "plt.figure(figsize= (16,8))\n",
    "sns.boxplot(data = filtro_destinos , x = \"Dest\", y = \"AirTime\", palette=\"Blues\")"
   ]
  },
  {
   "cell_type": "code",
   "execution_count": 26,
   "id": "206cc1f8",
   "metadata": {},
   "outputs": [
    {
     "data": {
      "text/plain": [
       "<BarContainer object of 32 artists>"
      ]
     },
     "execution_count": 26,
     "metadata": {},
     "output_type": "execute_result"
    },
    {
     "data": {
      "image/png": "[encoded data removed]",
      "text/plain": [
       "<Figure size 1600x800 with 1 Axes>"
      ]
     },
     "metadata": {},
     "output_type": "display_data"
    }
   ],
   "source": [
    "plt.figure(figsize= (16,8))\n",
    "cancelados = df.loc[df.Cancelled == 1,\"Dest\"].value_counts()\n",
    "cancelados_mas_frecuentes = cancelados[cancelados.values>1000]\n",
    "plt.bar(cancelados_mas_frecuentes.index,cancelados_mas_frecuentes.values, color=sns.color_palette(\"Blues\"),edgecolor='black', linewidth=1)"
   ]
  },
  {
   "cell_type": "code",
   "execution_count": 27,
   "id": "0da849ef",
   "metadata": {},
   "outputs": [
    {
     "data": {
      "text/plain": [
       "<BarContainer object of 21 artists>"
      ]
     },
     "execution_count": 27,
     "metadata": {},
     "output_type": "execute_result"
    },
    {
     "data": {
      "image/png": "[encoded data removed]",
      "text/plain": [
       "<Figure size 1600x800 with 1 Axes>"
      ]
     },
     "metadata": {},
     "output_type": "display_data"
    }
   ],
   "source": [
    "destinos_cantidades = df[\"Dest\"].value_counts()\n",
    "destinos_cantidades_freq = destinos_cantidades[destinos_cantidades.values>100000]\n",
    "plt.figure(figsize= (16,8))\n",
    "plt.bar(destinos_cantidades_freq.index,destinos_cantidades_freq.values, color=sns.color_palette(\"Blues\"),edgecolor='black', linewidth=1)"
   ]
  },
  {
   "cell_type": "code",
   "execution_count": null,
   "id": "7d73ed31",
   "metadata": {},
   "outputs": [],
   "source": []
  }
 ],
 "metadata": {
  "kernelspec": {
   "display_name": "Python 3 (ipykernel)",
   "language": "python",
   "name": "python3"
  },
  "language_info": {
   "codemirror_mode": {
    "name": "ipython",
    "version": 3
   },
   "file_extension": ".py",
   "mimetype": "text/x-python",
   "name": "python",
   "nbconvert_exporter": "python",
   "pygments_lexer": "ipython3",
   "version": "3.8.8"
  }
 },
 "nbformat": 4,
 "nbformat_minor": 5
}
